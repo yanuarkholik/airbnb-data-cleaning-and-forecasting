{
 "cells": [
  {
   "cell_type": "code",
   "execution_count": 1,
   "metadata": {},
   "outputs": [],
   "source": [
    "import json\n",
    "import psycopg2\n",
    "import pandas as pd"
   ]
  },
  {
   "cell_type": "code",
   "execution_count": 2,
   "metadata": {},
   "outputs": [],
   "source": [
    "raw = pd.read_csv('../raw/train.csv')\n",
    "clean = pd.read_csv('../processed/train_cleaned.csv')"
   ]
  },
  {
   "cell_type": "code",
   "execution_count": 14,
   "metadata": {},
   "outputs": [],
   "source": [
    "clean.to_json('../processed/train_cleaned.json')\n",
    "raw.to_json('../processed/train.json')"
   ]
  },
  {
   "cell_type": "code",
   "execution_count": 3,
   "metadata": {},
   "outputs": [],
   "source": [
    "raw_json = raw.to_json(orient='table')\n",
    "clean_json = clean.reset_index(drop=True).to_json(orient='table')\n",
    "\n",
    "parsed1 = json.loads(raw_json)\n",
    "parsed2 = json.loads(clean_json)"
   ]
  },
  {
   "cell_type": "code",
   "execution_count": 8,
   "metadata": {},
   "outputs": [],
   "source": [
    "conn = psycopg2.connect(\n",
    "    host=\"127.0.0.1\",\n",
    "    database=\"apartementDB\",\n",
    "    user=\"yanz\",\n",
    "    password=\"yanz\")"
   ]
  },
  {
   "cell_type": "code",
   "execution_count": null,
   "metadata": {},
   "outputs": [],
   "source": [
    "# drop_table_if_not_exist = 'DROP TABLE IF NOT EXIST'\n",
    "\n",
    "# tb_cr = (\n",
    "#     '''\n",
    "#     CREATE TABLE IF NOT EXIST \n",
    "#     '''\n",
    "# )"
   ]
  }
 ],
 "metadata": {
  "kernelspec": {
   "display_name": "Python 3.9.1 64-bit",
   "language": "python",
   "name": "python3"
  },
  "language_info": {
   "codemirror_mode": {
    "name": "ipython",
    "version": 3
   },
   "file_extension": ".py",
   "mimetype": "text/x-python",
   "name": "python",
   "nbconvert_exporter": "python",
   "pygments_lexer": "ipython3",
   "version": "3.9.1"
  },
  "orig_nbformat": 4,
  "vscode": {
   "interpreter": {
    "hash": "50c5c2b6e05db9fe8b3433ad8e6dc52eedfaade324407e06c6799762d580ed33"
   }
  }
 },
 "nbformat": 4,
 "nbformat_minor": 2
}
